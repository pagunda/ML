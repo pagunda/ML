{
 "cells": [
  {
   "cell_type": "code",
   "execution_count": 3,
   "metadata": {},
   "outputs": [],
   "source": [
    "#importing neccesary libraries\n",
    "import keras\n",
    "from keras.models import Sequential\n",
    "from keras.layers import Dense, Dropout, Flatten\n",
    "from keras.layers import Conv2D, MaxPooling2D\n",
    "from keras.utils import to_categorical\n",
    "from keras.preprocessing import image\n",
    "import numpy as np\n",
    "import pandas as pd\n",
    "import matplotlib.pyplot as plt\n",
    "from sklearn.model_selection import train_test_split\n",
    "from keras.utils import to_categorical\n",
    "from tqdm import tqdm"
   ]
  },
  {
   "cell_type": "code",
   "execution_count": 4,
   "metadata": {},
   "outputs": [
    {
     "data": {
      "text/html": [
       "<div>\n",
       "<style scoped>\n",
       "    .dataframe tbody tr th:only-of-type {\n",
       "        vertical-align: middle;\n",
       "    }\n",
       "\n",
       "    .dataframe tbody tr th {\n",
       "        vertical-align: top;\n",
       "    }\n",
       "\n",
       "    .dataframe thead th {\n",
       "        text-align: right;\n",
       "    }\n",
       "</style>\n",
       "<table border=\"1\" class=\"dataframe\">\n",
       "  <thead>\n",
       "    <tr style=\"text-align: right;\">\n",
       "      <th></th>\n",
       "      <th>Image</th>\n",
       "      <th>target</th>\n",
       "    </tr>\n",
       "  </thead>\n",
       "  <tbody>\n",
       "    <tr>\n",
       "      <th>0</th>\n",
       "      <td>96.jpg</td>\n",
       "      <td>manipuri</td>\n",
       "    </tr>\n",
       "    <tr>\n",
       "      <th>1</th>\n",
       "      <td>163.jpg</td>\n",
       "      <td>bharatanatyam</td>\n",
       "    </tr>\n",
       "  </tbody>\n",
       "</table>\n",
       "</div>"
      ],
      "text/plain": [
       "     Image         target\n",
       "0   96.jpg       manipuri\n",
       "1  163.jpg  bharatanatyam"
      ]
     },
     "execution_count": 4,
     "metadata": {},
     "output_type": "execute_result"
    }
   ],
   "source": [
    "#Loading train data\n",
    "train_data = pd.read_csv('train.csv')\n",
    "train_data.head(2)"
   ]
  },
  {
   "cell_type": "code",
   "execution_count": 9,
   "metadata": {},
   "outputs": [
    {
     "data": {
      "text/plain": [
       "'450.jpg'"
      ]
     },
     "execution_count": 9,
     "metadata": {},
     "output_type": "execute_result"
    }
   ],
   "source": [
    "train_data['Image'][2]"
   ]
  },
  {
   "cell_type": "code",
   "execution_count": 15,
   "metadata": {},
   "outputs": [
    {
     "name": "stderr",
     "output_type": "stream",
     "text": [
      "  0%|                                                                                          | 0/364 [00:00<?, ?it/s]C:\\Users\\pagunda\\AppData\\Local\\Continuum\\anaconda3\\lib\\site-packages\\keras_preprocessing\\image\\utils.py:104: UserWarning: grayscale is deprecated. Please use color_mode = \"grayscale\"\n",
      "  warnings.warn('grayscale is deprecated. Please use '\n",
      "100%|███████████████████████████████████████████████████████████████████████████████| 364/364 [00:02<00:00, 150.89it/s]\n"
     ]
    }
   ],
   "source": [
    "train_image = []\n",
    "for i in tqdm(range(train_data.shape[0])):\n",
    "    img = image.load_img('train/'+train_data['Image'][i], target_size=(28,28,1), grayscale=True)\n",
    "    img = image.img_to_array(img)\n",
    "    img = img/255\n",
    "    train_image.append(img)\n",
    "X = np.array(train_image)"
   ]
  },
  {
   "cell_type": "code",
   "execution_count": 17,
   "metadata": {},
   "outputs": [],
   "source": [
    "#Categorize target data into 0-7\n",
    "dmap = {'manipuri':0,'bharatanatyam':1,'odissi':2,'kathakali':3,'kathak':4,\n",
    "       'sattriya':5,'kuchipudi':6,'mohiniyattam':7}\n",
    "train_data['target'] = train_data['target'].map(dmap)"
   ]
  },
  {
   "cell_type": "code",
   "execution_count": 19,
   "metadata": {},
   "outputs": [
    {
     "data": {
      "text/html": [
       "<div>\n",
       "<style scoped>\n",
       "    .dataframe tbody tr th:only-of-type {\n",
       "        vertical-align: middle;\n",
       "    }\n",
       "\n",
       "    .dataframe tbody tr th {\n",
       "        vertical-align: top;\n",
       "    }\n",
       "\n",
       "    .dataframe thead th {\n",
       "        text-align: right;\n",
       "    }\n",
       "</style>\n",
       "<table border=\"1\" class=\"dataframe\">\n",
       "  <thead>\n",
       "    <tr style=\"text-align: right;\">\n",
       "      <th></th>\n",
       "      <th>Image</th>\n",
       "      <th>target</th>\n",
       "    </tr>\n",
       "  </thead>\n",
       "  <tbody>\n",
       "    <tr>\n",
       "      <th>0</th>\n",
       "      <td>96.jpg</td>\n",
       "      <td>0</td>\n",
       "    </tr>\n",
       "    <tr>\n",
       "      <th>1</th>\n",
       "      <td>163.jpg</td>\n",
       "      <td>1</td>\n",
       "    </tr>\n",
       "  </tbody>\n",
       "</table>\n",
       "</div>"
      ],
      "text/plain": [
       "     Image  target\n",
       "0   96.jpg       0\n",
       "1  163.jpg       1"
      ]
     },
     "execution_count": 19,
     "metadata": {},
     "output_type": "execute_result"
    }
   ],
   "source": [
    "train_data.head(2)"
   ]
  },
  {
   "cell_type": "code",
   "execution_count": 20,
   "metadata": {},
   "outputs": [],
   "source": [
    "#Splitting data into train and test data\n",
    "X_train, X_test, y_train, y_test = train_test_split(X, train_data['target'], random_state=42, test_size=0.2)\n"
   ]
  },
  {
   "cell_type": "code",
   "execution_count": 39,
   "metadata": {},
   "outputs": [],
   "source": [
    "#Initializing the model\n",
    "model = Sequential()\n",
    "model.add(Conv2D(32, kernel_size=(3, 3),activation='relu',input_shape=(28,28,1)))\n",
    "model.add(Conv2D(64, (3, 3), activation='relu'))\n",
    "model.add(MaxPooling2D(pool_size=(2, 2)))\n",
    "model.add(Dropout(0.25))\n",
    "model.add(Flatten())\n",
    "model.add(Dense(128, activation='relu'))\n",
    "model.add(Dropout(0.5))\n",
    "model.add(Dense(8, activation='softmax'))"
   ]
  },
  {
   "cell_type": "code",
   "execution_count": 40,
   "metadata": {},
   "outputs": [],
   "source": [
    "model.compile(loss='sparse_categorical_crossentropy',optimizer='Adam',metrics=['accuracy'])"
   ]
  },
  {
   "cell_type": "code",
   "execution_count": 49,
   "metadata": {},
   "outputs": [
    {
     "name": "stdout",
     "output_type": "stream",
     "text": [
      "Train on 291 samples, validate on 73 samples\n",
      "Epoch 1/20\n",
      "291/291 [==============================] - ETA: 0s - loss: 0.8650 - accuracy: 0.65 - ETA: 0s - loss: 0.8329 - accuracy: 0.67 - ETA: 0s - loss: 0.8606 - accuracy: 0.65 - ETA: 0s - loss: 0.7969 - accuracy: 0.68 - ETA: 0s - loss: 0.7954 - accuracy: 0.70 - ETA: 0s - loss: 0.7923 - accuracy: 0.70 - ETA: 0s - loss: 0.8034 - accuracy: 0.70 - ETA: 0s - loss: 0.7959 - accuracy: 0.71 - ETA: 0s - loss: 0.7952 - accuracy: 0.71 - 1s 3ms/step - loss: 0.7977 - accuracy: 0.7182 - val_loss: 1.8245 - val_accuracy: 0.3699\n",
      "Epoch 2/20\n",
      "291/291 [==============================] - ETA: 0s - loss: 0.6528 - accuracy: 0.84 - ETA: 0s - loss: 0.6422 - accuracy: 0.81 - ETA: 0s - loss: 0.6173 - accuracy: 0.82 - ETA: 0s - loss: 0.6333 - accuracy: 0.82 - ETA: 0s - loss: 0.6711 - accuracy: 0.80 - ETA: 0s - loss: 0.6994 - accuracy: 0.78 - ETA: 0s - loss: 0.6927 - accuracy: 0.78 - ETA: 0s - loss: 0.7093 - accuracy: 0.77 - ETA: 0s - loss: 0.7077 - accuracy: 0.78 - 1s 4ms/step - loss: 0.7087 - accuracy: 0.7835 - val_loss: 1.9748 - val_accuracy: 0.3836\n",
      "Epoch 3/20\n",
      "291/291 [==============================] - ETA: 0s - loss: 0.6675 - accuracy: 0.78 - ETA: 0s - loss: 0.6139 - accuracy: 0.82 - ETA: 0s - loss: 0.5944 - accuracy: 0.83 - ETA: 0s - loss: 0.5616 - accuracy: 0.84 - ETA: 0s - loss: 0.5528 - accuracy: 0.84 - ETA: 0s - loss: 0.5735 - accuracy: 0.83 - ETA: 0s - loss: 0.5539 - accuracy: 0.84 - ETA: 0s - loss: 0.5656 - accuracy: 0.83 - ETA: 0s - loss: 0.5540 - accuracy: 0.84 - 1s 4ms/step - loss: 0.5520 - accuracy: 0.8419 - val_loss: 2.0545 - val_accuracy: 0.3562\n",
      "Epoch 4/20\n",
      "291/291 [==============================] - ETA: 0s - loss: 0.4324 - accuracy: 0.87 - ETA: 0s - loss: 0.4220 - accuracy: 0.89 - ETA: 0s - loss: 0.3834 - accuracy: 0.90 - ETA: 0s - loss: 0.4035 - accuracy: 0.89 - ETA: 0s - loss: 0.4168 - accuracy: 0.90 - ETA: 0s - loss: 0.4320 - accuracy: 0.89 - ETA: 0s - loss: 0.4542 - accuracy: 0.87 - ETA: 0s - loss: 0.4993 - accuracy: 0.85 - ETA: 0s - loss: 0.4872 - accuracy: 0.86 - 1s 4ms/step - loss: 0.4841 - accuracy: 0.8625 - val_loss: 2.3424 - val_accuracy: 0.3562\n",
      "Epoch 5/20\n",
      "291/291 [==============================] - ETA: 0s - loss: 0.4768 - accuracy: 0.87 - ETA: 0s - loss: 0.5213 - accuracy: 0.85 - ETA: 0s - loss: 0.4527 - accuracy: 0.88 - ETA: 0s - loss: 0.4434 - accuracy: 0.86 - ETA: 0s - loss: 0.4403 - accuracy: 0.86 - ETA: 0s - loss: 0.4748 - accuracy: 0.86 - ETA: 0s - loss: 0.4612 - accuracy: 0.86 - ETA: 0s - loss: 0.4478 - accuracy: 0.87 - ETA: 0s - loss: 0.4478 - accuracy: 0.88 - 1s 3ms/step - loss: 0.4433 - accuracy: 0.8832 - val_loss: 2.2190 - val_accuracy: 0.3699\n",
      "Epoch 6/20\n",
      "291/291 [==============================] - ETA: 0s - loss: 0.3550 - accuracy: 0.90 - ETA: 0s - loss: 0.2817 - accuracy: 0.93 - ETA: 0s - loss: 0.3359 - accuracy: 0.91 - ETA: 0s - loss: 0.3238 - accuracy: 0.92 - ETA: 0s - loss: 0.3269 - accuracy: 0.91 - ETA: 0s - loss: 0.3359 - accuracy: 0.91 - ETA: 0s - loss: 0.3598 - accuracy: 0.90 - ETA: 0s - loss: 0.3530 - accuracy: 0.90 - ETA: 0s - loss: 0.3479 - accuracy: 0.89 - 1s 4ms/step - loss: 0.3447 - accuracy: 0.9003 - val_loss: 2.3508 - val_accuracy: 0.3973\n",
      "Epoch 7/20\n",
      "291/291 [==============================] - ETA: 0s - loss: 0.2819 - accuracy: 0.93 - ETA: 0s - loss: 0.2573 - accuracy: 0.93 - ETA: 0s - loss: 0.2921 - accuracy: 0.90 - ETA: 0s - loss: 0.3059 - accuracy: 0.89 - ETA: 0s - loss: 0.3202 - accuracy: 0.89 - ETA: 0s - loss: 0.3100 - accuracy: 0.89 - ETA: 0s - loss: 0.3098 - accuracy: 0.89 - ETA: 0s - loss: 0.3056 - accuracy: 0.90 - ETA: 0s - loss: 0.2914 - accuracy: 0.91 - 1s 4ms/step - loss: 0.2924 - accuracy: 0.9141 - val_loss: 2.4709 - val_accuracy: 0.3425\n",
      "Epoch 8/20\n",
      "291/291 [==============================] - ETA: 0s - loss: 0.2973 - accuracy: 0.93 - ETA: 0s - loss: 0.2788 - accuracy: 0.93 - ETA: 0s - loss: 0.2767 - accuracy: 0.93 - ETA: 0s - loss: 0.2893 - accuracy: 0.92 - ETA: 0s - loss: 0.3021 - accuracy: 0.93 - ETA: 0s - loss: 0.2905 - accuracy: 0.93 - ETA: 0s - loss: 0.2751 - accuracy: 0.93 - ETA: 0s - loss: 0.2718 - accuracy: 0.93 - ETA: 0s - loss: 0.2588 - accuracy: 0.93 - 1s 3ms/step - loss: 0.2660 - accuracy: 0.9347 - val_loss: 2.4573 - val_accuracy: 0.3562\n",
      "Epoch 9/20\n",
      "291/291 [==============================] - ETA: 0s - loss: 0.2351 - accuracy: 0.90 - ETA: 0s - loss: 0.1983 - accuracy: 0.93 - ETA: 0s - loss: 0.1890 - accuracy: 0.94 - ETA: 0s - loss: 0.2369 - accuracy: 0.91 - ETA: 0s - loss: 0.2898 - accuracy: 0.88 - ETA: 0s - loss: 0.3251 - accuracy: 0.87 - ETA: 0s - loss: 0.3092 - accuracy: 0.88 - ETA: 0s - loss: 0.3017 - accuracy: 0.89 - ETA: 0s - loss: 0.2980 - accuracy: 0.90 - 1s 4ms/step - loss: 0.3001 - accuracy: 0.9003 - val_loss: 2.3051 - val_accuracy: 0.3699\n",
      "Epoch 10/20\n",
      "291/291 [==============================] - ETA: 0s - loss: 0.1759 - accuracy: 0.96 - ETA: 0s - loss: 0.2187 - accuracy: 0.95 - ETA: 0s - loss: 0.2754 - accuracy: 0.94 - ETA: 0s - loss: 0.2715 - accuracy: 0.94 - ETA: 0s - loss: 0.3026 - accuracy: 0.93 - ETA: 0s - loss: 0.2968 - accuracy: 0.92 - ETA: 0s - loss: 0.2790 - accuracy: 0.93 - ETA: 0s - loss: 0.2894 - accuracy: 0.92 - ETA: 0s - loss: 0.2819 - accuracy: 0.93 - 1s 4ms/step - loss: 0.2868 - accuracy: 0.9278 - val_loss: 2.2145 - val_accuracy: 0.3836\n",
      "Epoch 11/20\n",
      "291/291 [==============================] - ETA: 0s - loss: 0.3958 - accuracy: 0.84 - ETA: 0s - loss: 0.3730 - accuracy: 0.87 - ETA: 0s - loss: 0.3485 - accuracy: 0.87 - ETA: 0s - loss: 0.3150 - accuracy: 0.89 - ETA: 0s - loss: 0.2991 - accuracy: 0.90 - ETA: 0s - loss: 0.2799 - accuracy: 0.91 - ETA: 0s - loss: 0.2738 - accuracy: 0.91 - ETA: 0s - loss: 0.2655 - accuracy: 0.92 - ETA: 0s - loss: 0.2710 - accuracy: 0.92 - 1s 4ms/step - loss: 0.2690 - accuracy: 0.9210 - val_loss: 2.3779 - val_accuracy: 0.3425\n",
      "Epoch 12/20\n",
      "291/291 [==============================] - ETA: 0s - loss: 0.1372 - accuracy: 1.00 - ETA: 0s - loss: 0.1227 - accuracy: 1.00 - ETA: 0s - loss: 0.1130 - accuracy: 1.00 - ETA: 0s - loss: 0.1214 - accuracy: 0.98 - ETA: 0s - loss: 0.1583 - accuracy: 0.96 - ETA: 0s - loss: 0.1740 - accuracy: 0.95 - ETA: 0s - loss: 0.1739 - accuracy: 0.95 - ETA: 0s - loss: 0.1795 - accuracy: 0.95 - ETA: 0s - loss: 0.1735 - accuracy: 0.95 - 1s 4ms/step - loss: 0.1723 - accuracy: 0.9553 - val_loss: 2.7146 - val_accuracy: 0.3562\n",
      "Epoch 13/20\n",
      "291/291 [==============================] - ETA: 0s - loss: 0.1471 - accuracy: 0.93 - ETA: 0s - loss: 0.1255 - accuracy: 0.96 - ETA: 0s - loss: 0.1622 - accuracy: 0.93 - ETA: 0s - loss: 0.1584 - accuracy: 0.93 - ETA: 0s - loss: 0.1372 - accuracy: 0.95 - ETA: 0s - loss: 0.1310 - accuracy: 0.95 - ETA: 0s - loss: 0.1527 - accuracy: 0.95 - ETA: 0s - loss: 0.1547 - accuracy: 0.95 - ETA: 0s - loss: 0.1539 - accuracy: 0.95 - 1s 4ms/step - loss: 0.1531 - accuracy: 0.9553 - val_loss: 2.7656 - val_accuracy: 0.3288\n",
      "Epoch 14/20\n",
      "291/291 [==============================] - ETA: 0s - loss: 0.0715 - accuracy: 1.00 - ETA: 0s - loss: 0.0945 - accuracy: 0.98 - ETA: 0s - loss: 0.1044 - accuracy: 0.98 - ETA: 0s - loss: 0.1027 - accuracy: 0.98 - ETA: 0s - loss: 0.1015 - accuracy: 0.98 - ETA: 0s - loss: 0.0979 - accuracy: 0.98 - ETA: 0s - loss: 0.1038 - accuracy: 0.98 - ETA: 0s - loss: 0.1018 - accuracy: 0.98 - ETA: 0s - loss: 0.0998 - accuracy: 0.97 - 1s 4ms/step - loss: 0.0996 - accuracy: 0.9794 - val_loss: 2.9638 - val_accuracy: 0.3425\n",
      "Epoch 15/20\n",
      "291/291 [==============================] - ETA: 0s - loss: 0.1463 - accuracy: 0.96 - ETA: 0s - loss: 0.1099 - accuracy: 0.96 - ETA: 0s - loss: 0.1054 - accuracy: 0.97 - ETA: 0s - loss: 0.1006 - accuracy: 0.98 - ETA: 0s - loss: 0.0952 - accuracy: 0.98 - ETA: 0s - loss: 0.0976 - accuracy: 0.97 - ETA: 0s - loss: 0.0982 - accuracy: 0.97 - ETA: 0s - loss: 0.1068 - accuracy: 0.97 - ETA: 0s - loss: 0.1024 - accuracy: 0.97 - 1s 4ms/step - loss: 0.1018 - accuracy: 0.9759 - val_loss: 2.8533 - val_accuracy: 0.3699\n",
      "Epoch 16/20\n"
     ]
    },
    {
     "name": "stdout",
     "output_type": "stream",
     "text": [
      "291/291 [==============================] - ETA: 0s - loss: 0.1564 - accuracy: 0.93 - ETA: 0s - loss: 0.1404 - accuracy: 0.95 - ETA: 0s - loss: 0.1339 - accuracy: 0.94 - ETA: 0s - loss: 0.1279 - accuracy: 0.94 - ETA: 0s - loss: 0.1080 - accuracy: 0.95 - ETA: 0s - loss: 0.1145 - accuracy: 0.95 - ETA: 0s - loss: 0.1171 - accuracy: 0.95 - ETA: 0s - loss: 0.1166 - accuracy: 0.95 - ETA: 0s - loss: 0.1124 - accuracy: 0.96 - 1s 4ms/step - loss: 0.1113 - accuracy: 0.9622 - val_loss: 2.9280 - val_accuracy: 0.4110\n",
      "Epoch 17/20\n",
      "291/291 [==============================] - ETA: 0s - loss: 0.0872 - accuracy: 0.96 - ETA: 0s - loss: 0.0739 - accuracy: 0.98 - ETA: 0s - loss: 0.0775 - accuracy: 0.97 - ETA: 0s - loss: 0.0763 - accuracy: 0.98 - ETA: 0s - loss: 0.0685 - accuracy: 0.98 - ETA: 0s - loss: 0.0691 - accuracy: 0.98 - ETA: 0s - loss: 0.0668 - accuracy: 0.99 - ETA: 0s - loss: 0.0643 - accuracy: 0.99 - ETA: 0s - loss: 0.0631 - accuracy: 0.99 - 1s 4ms/step - loss: 0.0629 - accuracy: 0.9931 - val_loss: 3.0007 - val_accuracy: 0.3425\n",
      "Epoch 18/20\n",
      "291/291 [==============================] - ETA: 0s - loss: 0.0742 - accuracy: 0.96 - ETA: 0s - loss: 0.0929 - accuracy: 0.96 - ETA: 0s - loss: 0.0801 - accuracy: 0.96 - ETA: 0s - loss: 0.0792 - accuracy: 0.96 - ETA: 0s - loss: 0.0903 - accuracy: 0.96 - ETA: 0s - loss: 0.0845 - accuracy: 0.96 - ETA: 0s - loss: 0.0873 - accuracy: 0.96 - ETA: 0s - loss: 0.0871 - accuracy: 0.96 - ETA: 0s - loss: 0.0828 - accuracy: 0.97 - 1s 4ms/step - loss: 0.0830 - accuracy: 0.9725 - val_loss: 3.2474 - val_accuracy: 0.3425\n",
      "Epoch 19/20\n",
      "291/291 [==============================] - ETA: 0s - loss: 0.0900 - accuracy: 0.96 - ETA: 0s - loss: 0.1093 - accuracy: 0.95 - ETA: 0s - loss: 0.1013 - accuracy: 0.96 - ETA: 0s - loss: 0.0823 - accuracy: 0.97 - ETA: 0s - loss: 0.0746 - accuracy: 0.98 - ETA: 0s - loss: 0.0992 - accuracy: 0.97 - ETA: 0s - loss: 0.1010 - accuracy: 0.97 - ETA: 0s - loss: 0.1003 - accuracy: 0.97 - ETA: 0s - loss: 0.1014 - accuracy: 0.96 - 1s 4ms/step - loss: 0.1004 - accuracy: 0.9691 - val_loss: 3.0880 - val_accuracy: 0.3699\n",
      "Epoch 20/20\n",
      "291/291 [==============================] - ETA: 0s - loss: 0.0394 - accuracy: 1.00 - ETA: 0s - loss: 0.0504 - accuracy: 0.98 - ETA: 0s - loss: 0.0588 - accuracy: 0.98 - ETA: 0s - loss: 0.0725 - accuracy: 0.97 - ETA: 0s - loss: 0.0754 - accuracy: 0.97 - ETA: 0s - loss: 0.0761 - accuracy: 0.97 - ETA: 0s - loss: 0.0748 - accuracy: 0.98 - ETA: 0s - loss: 0.0713 - accuracy: 0.98 - ETA: 0s - loss: 0.0726 - accuracy: 0.98 - 1s 3ms/step - loss: 0.0762 - accuracy: 0.9828 - val_loss: 3.0633 - val_accuracy: 0.3562\n"
     ]
    },
    {
     "data": {
      "text/plain": [
       "<keras.callbacks.callbacks.History at 0x1bd2e43db38>"
      ]
     },
     "execution_count": 49,
     "metadata": {},
     "output_type": "execute_result"
    }
   ],
   "source": [
    "model.fit(X_train, y_train, epochs=20, validation_data=(X_test, y_test))"
   ]
  },
  {
   "cell_type": "code",
   "execution_count": 42,
   "metadata": {},
   "outputs": [
    {
     "data": {
      "text/html": [
       "<div>\n",
       "<style scoped>\n",
       "    .dataframe tbody tr th:only-of-type {\n",
       "        vertical-align: middle;\n",
       "    }\n",
       "\n",
       "    .dataframe tbody tr th {\n",
       "        vertical-align: top;\n",
       "    }\n",
       "\n",
       "    .dataframe thead th {\n",
       "        text-align: right;\n",
       "    }\n",
       "</style>\n",
       "<table border=\"1\" class=\"dataframe\">\n",
       "  <thead>\n",
       "    <tr style=\"text-align: right;\">\n",
       "      <th></th>\n",
       "      <th>Image</th>\n",
       "    </tr>\n",
       "  </thead>\n",
       "  <tbody>\n",
       "    <tr>\n",
       "      <th>0</th>\n",
       "      <td>508.jpg</td>\n",
       "    </tr>\n",
       "    <tr>\n",
       "      <th>1</th>\n",
       "      <td>246.jpg</td>\n",
       "    </tr>\n",
       "  </tbody>\n",
       "</table>\n",
       "</div>"
      ],
      "text/plain": [
       "     Image\n",
       "0  508.jpg\n",
       "1  246.jpg"
      ]
     },
     "execution_count": 42,
     "metadata": {},
     "output_type": "execute_result"
    }
   ],
   "source": [
    "test_data = pd.read_csv('test.csv')\n",
    "test_data.head(2)"
   ]
  },
  {
   "cell_type": "code",
   "execution_count": 45,
   "metadata": {},
   "outputs": [
    {
     "name": "stderr",
     "output_type": "stream",
     "text": [
      "100%|████████████████████████████████████████████████████████████████████████████████| 156/156 [00:02<00:00, 86.58it/s]\n"
     ]
    }
   ],
   "source": [
    "test_image = []\n",
    "for i in tqdm(range(test_data.shape[0])):\n",
    "    img = image.load_img('test/'+test_data['Image'][i], target_size=(28,28,1), grayscale=True)\n",
    "    img = image.img_to_array(img)\n",
    "    img = img/255\n",
    "    test_image.append(img)\n",
    "test = np.array(test_image)"
   ]
  },
  {
   "cell_type": "code",
   "execution_count": 52,
   "metadata": {},
   "outputs": [],
   "source": [
    "prediction = model.predict_classes(test)"
   ]
  },
  {
   "cell_type": "code",
   "execution_count": 53,
   "metadata": {},
   "outputs": [],
   "source": [
    "dmap = {0:'manipuri',1:'bharatanatyam',2:'odissi',3:'kathakali',4:'kathak',\n",
    "       5:'sattriya',6:'kuchipudi',7:'mohiniyattam'}"
   ]
  },
  {
   "cell_type": "code",
   "execution_count": 55,
   "metadata": {},
   "outputs": [],
   "source": [
    "test_data['target'] = prediction"
   ]
  },
  {
   "cell_type": "code",
   "execution_count": 56,
   "metadata": {},
   "outputs": [],
   "source": [
    "test_data['target'] = test_data['target'].map(dmap)"
   ]
  },
  {
   "cell_type": "code",
   "execution_count": 57,
   "metadata": {},
   "outputs": [
    {
     "data": {
      "text/html": [
       "<div>\n",
       "<style scoped>\n",
       "    .dataframe tbody tr th:only-of-type {\n",
       "        vertical-align: middle;\n",
       "    }\n",
       "\n",
       "    .dataframe tbody tr th {\n",
       "        vertical-align: top;\n",
       "    }\n",
       "\n",
       "    .dataframe thead th {\n",
       "        text-align: right;\n",
       "    }\n",
       "</style>\n",
       "<table border=\"1\" class=\"dataframe\">\n",
       "  <thead>\n",
       "    <tr style=\"text-align: right;\">\n",
       "      <th></th>\n",
       "      <th>Image</th>\n",
       "      <th>target</th>\n",
       "    </tr>\n",
       "  </thead>\n",
       "  <tbody>\n",
       "    <tr>\n",
       "      <th>0</th>\n",
       "      <td>508.jpg</td>\n",
       "      <td>odissi</td>\n",
       "    </tr>\n",
       "    <tr>\n",
       "      <th>1</th>\n",
       "      <td>246.jpg</td>\n",
       "      <td>sattriya</td>\n",
       "    </tr>\n",
       "    <tr>\n",
       "      <th>2</th>\n",
       "      <td>473.jpg</td>\n",
       "      <td>kuchipudi</td>\n",
       "    </tr>\n",
       "    <tr>\n",
       "      <th>3</th>\n",
       "      <td>485.jpg</td>\n",
       "      <td>odissi</td>\n",
       "    </tr>\n",
       "    <tr>\n",
       "      <th>4</th>\n",
       "      <td>128.jpg</td>\n",
       "      <td>kathak</td>\n",
       "    </tr>\n",
       "  </tbody>\n",
       "</table>\n",
       "</div>"
      ],
      "text/plain": [
       "     Image     target\n",
       "0  508.jpg     odissi\n",
       "1  246.jpg   sattriya\n",
       "2  473.jpg  kuchipudi\n",
       "3  485.jpg     odissi\n",
       "4  128.jpg     kathak"
      ]
     },
     "execution_count": 57,
     "metadata": {},
     "output_type": "execute_result"
    }
   ],
   "source": [
    "test_data.head()"
   ]
  },
  {
   "cell_type": "code",
   "execution_count": 63,
   "metadata": {},
   "outputs": [],
   "source": [
    "test_data.to_csv('img_clf_submissions.csv',index=False)"
   ]
  },
  {
   "cell_type": "code",
   "execution_count": 64,
   "metadata": {},
   "outputs": [],
   "source": [
    "import csv\n",
    "with open('img_cls_submission', \"w\") as my_output_file:\n",
    "    with open('img_clf_submissions.csv', \"r\") as my_input_file:\n",
    "        [ my_output_file.write(\" \".join(row)+'\\n') for row in csv.reader(my_input_file)]\n",
    "    my_output_file.close()"
   ]
  },
  {
   "cell_type": "code",
   "execution_count": null,
   "metadata": {},
   "outputs": [],
   "source": []
  }
 ],
 "metadata": {
  "kernelspec": {
   "display_name": "Python 3",
   "language": "python",
   "name": "python3"
  },
  "language_info": {
   "codemirror_mode": {
    "name": "ipython",
    "version": 3
   },
   "file_extension": ".py",
   "mimetype": "text/x-python",
   "name": "python",
   "nbconvert_exporter": "python",
   "pygments_lexer": "ipython3",
   "version": "3.7.3"
  }
 },
 "nbformat": 4,
 "nbformat_minor": 2
}
